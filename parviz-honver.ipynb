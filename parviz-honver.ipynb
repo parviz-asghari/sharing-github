{
 "cells": [
  {
   "cell_type": "code",
   "execution_count": 2,
   "metadata": {
    "collapsed": false
   },
   "outputs": [
    {
     "name": "stdout",
     "output_type": "stream",
     "text": [
      "Collecting rdflib\n",
      "  Downloading https://files.pythonhosted.org/packages/3c/fe/630bacb652680f6d481b9febbb3e2c3869194a1a5fc3401a4a41195a2f8f/rdflib-4.2.2-py3-none-any.whl (344kB)\n",
      "Requirement already satisfied: pandas in c:\\anaconda\\lib\\site-packages (0.24.0)\n",
      "Requirement already satisfied: scipy in c:\\anaconda\\lib\\site-packages (1.1.0)\n",
      "Requirement already satisfied: numpy in c:\\anaconda\\lib\\site-packages (1.16.0)\n",
      "Collecting isodate (from rdflib)\n",
      "  Downloading https://files.pythonhosted.org/packages/9b/9f/b36f7774ff5ea8e428fdcfc4bb332c39ee5b9362ddd3d40d9516a55221b2/isodate-0.6.0-py2.py3-none-any.whl (45kB)\n",
      "Requirement already satisfied: pyparsing in c:\\anaconda\\lib\\site-packages (from rdflib) (2.3.0)\n",
      "Requirement already satisfied: pytz>=2011k in c:\\anaconda\\lib\\site-packages (from pandas) (2018.7)\n",
      "Requirement already satisfied: python-dateutil>=2.5.0 in c:\\anaconda\\lib\\site-packages (from pandas) (2.7.5)\n",
      "Requirement already satisfied: six in c:\\anaconda\\lib\\site-packages (from isodate->rdflib) (1.12.0)\n",
      "Installing collected packages: isodate, rdflib\n",
      "Successfully installed isodate-0.6.0 rdflib-4.2.2\n"
     ]
    }
   ],
   "source": [
    "!pip install rdflib pandas scipy numpy"
   ]
  },
  {
   "cell_type": "code",
   "execution_count": 3,
   "metadata": {
    "collapsed": true
   },
   "outputs": [],
   "source": [
    "\n",
    "# Import all required libraries (some are missing)\n",
    "from rdflib import Graph, URIRef\n",
    "from rdflib.namespace import RDF"
   ]
  },
  {
   "cell_type": "code",
   "execution_count": 4,
   "metadata": {
    "collapsed": true
   },
   "outputs": [],
   "source": [
    "import numpy as np \n",
    "import pandas as pd \n",
    "from scipy.stats import ttest_ind"
   ]
  },
  {
   "cell_type": "code",
   "execution_count": 5,
   "metadata": {
    "collapsed": false
   },
   "outputs": [
    {
     "data": {
      "text/plain": [
       "5.3187252634905425e-05"
      ]
     },
     "execution_count": 5,
     "metadata": {},
     "output_type": "execute_result"
    }
   ],
   "source": [
    "# first part result\n",
    "labels=['non-failing heart','failing heart']\n",
    "data=[(95,50),(103,35),(99,21),(np.nan,15),(np.nan,7),(np.nan,40)]\n",
    "data_frame=pd.DataFrame.from_records(data,columns=labels)\n",
    "t_test=ttest_ind(data_frame['non-failing heart'],data_frame['failing heart'],equal_var=False, nan_policy='omit')\n",
    "t_test.pvalue"
   ]
  },
  {
   "cell_type": "code",
   "execution_count": 6,
   "metadata": {
    "collapsed": true
   },
   "outputs": [],
   "source": [
    "# # Run the T-test for the means of two independent samples using the example data\n",
    "\n",
    "# # Print the p-value"
   ]
  },
  {
   "cell_type": "code",
   "execution_count": 72,
   "metadata": {
    "collapsed": true
   },
   "outputs": [],
   "source": [
    "from rdflib import Graph, URIRef, BNode, Literal\n",
    "from rdflib.namespace import RDF, XSD, RDFS"
   ]
  },
  {
   "cell_type": "code",
   "execution_count": 77,
   "metadata": {
    "collapsed": false
   },
   "outputs": [
    {
     "name": "stdout",
     "output_type": "stream",
     "text": [
      "<?xml version=\"1.0\" encoding=\"utf-8\"?>\n",
      "<rdf:RDF\n",
      "  xmlns:obo=\"http://purl.obolibrary.org/obo/\"\n",
      "  xmlns:rdf=\"http://www.w3.org/1999/02/22-rdf-syntax-ns#\"\n",
      ">\n",
      "  <obo:STATO_0000304 rdf:about=\"http://example.org/n1\">\n",
      "    <obo:OBI_0000299>\n",
      "      <obo:OBI_0000175 rdf:nodeID=\"N9997aa532862458b81b8bfcceab2ed14\">\n",
      "        <obo:OBI_0001938>\n",
      "          <obo:OBI_0001931 rdf:nodeID=\"Ndd1bca6cddce43688a9640bfeea42c04\">\n",
      "            <obo:OBI_0001937 rdf:datatype=\"http://www.w3.org/2001/XMLSchema#double\">5.3187252634905425e-05</obo:OBI_0001937>\n",
      "          </obo:OBI_0001931>\n",
      "        </obo:OBI_0001938>\n",
      "      </obo:OBI_0000175>\n",
      "    </obo:OBI_0000299>\n",
      "    <obo:OBI_0000293>\n",
      "      <obo:GO_0030350 rdf:nodeID=\"N9faea1299f744b1590e5c8f3ffbfdc79\"/>\n",
      "    </obo:OBI_0000293>\n",
      "  </obo:STATO_0000304>\n",
      "</rdf:RDF>\n",
      "\n"
     ]
    }
   ],
   "source": [
    "# Describe the statistical hypothesis test in machine readable form\n",
    "\n",
    "# First, we initialize an RDF Graph and bind some prefixes\n",
    "g = Graph()\n",
    "g.bind('obo', 'http://purl.obolibrary.org/obo/')\n",
    "g.bind('ex', 'http://example.org/')\n",
    "\n",
    "# Next, we define some needed vocabulary\n",
    "obo = dict()\n",
    "obo['two sample t-test with unequal variance'] = URIRef('http://purl.obolibrary.org/obo/STATO_0000304')\n",
    "obo['has specified input'] = URIRef('http://purl.obolibrary.org/obo/OBI_0000293')\n",
    "obo['has specified output'] = URIRef('http://purl.obolibrary.org/obo/OBI_0000299')\n",
    "obo['p-value'] = URIRef('http://purl.obolibrary.org/obo/OBI_0000175')\n",
    "obo['has value specification'] = URIRef('http://purl.obolibrary.org/obo/OBI_0001938')\n",
    "obo['scalar value specification'] = URIRef('http://purl.obolibrary.org/obo/OBI_0001931')\n",
    "obo['has specified numeric value'] = URIRef('http://purl.obolibrary.org/obo/OBI_0001937')\n",
    "obo['iron-responsive element binding'] = URIRef('http://purl.obolibrary.org/obo/GO_0030350')\n",
    "\n",
    "# Now, populate the graph with statements\n",
    "n1=URIRef('http://example.org/n1')\n",
    "# As an example, the following statement types the resource (blank node) 'n1' as 'two sample t-test with unequal variance'\n",
    "# n1 = BNode()\n",
    "g.add((n1, RDF.type, obo['two sample t-test with unequal variance']))\n",
    "\n",
    "# Now, state that the t-test has iron-responsive element binding as a specified input (one statement to complete)\n",
    "n2 = BNode()\n",
    "g.add((n1, obo['has specified input'], n2))\n",
    "g.add((n2, RDF.type, obo['iron-responsive element binding']))\n",
    "#g.add(...)\n",
    "\n",
    "\n",
    "# Next, state that the t-test has the p-value computed above as a specified output (two statements to complete)\n",
    "#g.add(...)\n",
    "n3 = BNode()\n",
    "g.add((n1, obo['has specified output'], n3))\n",
    "g.add((n3, RDF.type, obo['p-value']))\n",
    "#g.add(...)\n",
    "\n",
    "# The literal value of the p-value is represented as a scalar value specification with a specified numeric value (three statements to complete)\n",
    "n4 = BNode()\n",
    "g.add((n3, obo['has value specification'], n4))\n",
    "#g.add(...)\n",
    "\n",
    "g.add((n4, RDF.type, obo['scalar value specification']))\n",
    "#g.add(...)\n",
    "# Type the literal as double\n",
    "g.add((n4, obo['has specified numeric value'], Literal(t_test.pvalue, datatype=XSD.double)))\n",
    "\n",
    "# Finally, serialize and print the graph in RDF/XML format\n",
    "\n",
    "print(g.serialize(format=\"pretty-xml\").decode('utf-8'))"
   ]
  },
  {
   "cell_type": "code",
   "execution_count": 34,
   "metadata": {
    "collapsed": false
   },
   "outputs": [
    {
     "name": "stdout",
     "output_type": "stream",
     "text": [
      "5.3187252634905425e-05\n"
     ]
    }
   ],
   "source": [
    "\n",
    "# Process the machine readable statistical hypothesis test by completing the following SPARQL query that returns the p-value\n",
    "\n",
    "q = \"\"\"\n",
    "PREFIX obo: <http://purl.obolibrary.org/obo/>\n",
    "\n",
    "SELECT ?pvalue WHERE {\n",
    "  ?r a obo:STATO_0000304 .\n",
    "  ?r obo:OBI_0000293 [ a obo:GO_0030350 ] .\n",
    "  ?r obo:OBI_0000299 [\n",
    "    a obo:OBI_0000175 ; \n",
    "       obo:OBI_0001938 [                          \n",
    "            a obo:OBI_0001931 ;                    \n",
    "            obo:OBI_0001937 ?pvalue                 \n",
    "        ] \n",
    "  ].\n",
    "\n",
    "}\n",
    "\"\"\"\n",
    "for qs in g.query(q):\n",
    "    print(qs[0])"
   ]
  },
  {
   "cell_type": "code",
   "execution_count": null,
   "metadata": {
    "collapsed": true
   },
   "outputs": [],
   "source": []
  }
 ],
 "metadata": {
  "kernelspec": {
   "display_name": "Python 3",
   "language": "python",
   "name": "python3"
  },
  "language_info": {
   "codemirror_mode": {
    "name": "ipython",
    "version": 3
   },
   "file_extension": ".py",
   "mimetype": "text/x-python",
   "name": "python",
   "nbconvert_exporter": "python",
   "pygments_lexer": "ipython3",
   "version": "3.5.4"
  }
 },
 "nbformat": 4,
 "nbformat_minor": 2
}
